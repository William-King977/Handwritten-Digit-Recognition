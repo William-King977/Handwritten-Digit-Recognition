{
 "cells": [
  {
   "cell_type": "markdown",
   "metadata": {},
   "source": [
    "# CSC345 Coursework\n",
    "<b>Student Name: </b> William King \n",
    "\n",
    "<b>Student Number: </b> 950178\n",
    "\n",
    "The experiment here is to test the performances of the <b>Radial Basis Function</b> and <b>Polynomial</b> kernals on the data set. The variable will be the penalty term (C) and it will be adjusted until optimal accuracy has been found. Also, the methods of normalising the features will be tested, to see how it will affect the accuracy."
   ]
  },
  {
   "cell_type": "code",
   "execution_count": 1,
   "metadata": {},
   "outputs": [],
   "source": [
    "import numpy as np\n",
    "import matplotlib.pyplot as plt\n",
    "import skimage.feature\n",
    "from sklearn.preprocessing import StandardScaler\n",
    "from sklearn.svm import SVC\n",
    "from sklearn.metrics import accuracy_score\n",
    "from sklearn.metrics import confusion_matrix"
   ]
  },
  {
   "cell_type": "markdown",
   "metadata": {},
   "source": [
    "## Import the data sets and labels. "
   ]
  },
  {
   "cell_type": "code",
   "execution_count": 2,
   "metadata": {},
   "outputs": [
    {
     "name": "stdout",
     "output_type": "stream",
     "text": [
      "Train Images:  (32, 32, 3, 10000)\n",
      "Train Labels:  (10000, 1)\n",
      "Test Images:  (32, 32, 3, 1000)\n",
      "Test Labels:  (1000, 1)\n"
     ]
    }
   ],
   "source": [
    "trainImages = np.load('trnImage.npy')\n",
    "trainLabels = np.load('trnLabel.npy')\n",
    "testImages = np.load('tstImage.npy')\n",
    "testLabels = np.load('tstLabel.npy')\n",
    "\n",
    "print('Train Images: ', trainImages.shape)\n",
    "print('Train Labels: ', trainLabels.shape)\n",
    "print('Test Images: ', testImages.shape)\n",
    "print('Test Labels: ', testLabels.shape)"
   ]
  },
  {
   "cell_type": "markdown",
   "metadata": {},
   "source": [
    "## Function used to extract the features."
   ]
  },
  {
   "cell_type": "code",
   "execution_count": 3,
   "metadata": {},
   "outputs": [],
   "source": [
    "def computeFeatures(image):\n",
    "    # This function computes the HOG features with the parsed hyperparameters and returns the features as hog_feature. \n",
    "    # By setting visualize=True we obtain an image, hog_as_image, which can be plotted for insight into extracted HOG features.\n",
    "    hog_feature, hog_as_image = skimage.feature.hog(image, visualize=True, block_norm='L2-Hys')\n",
    "    return hog_feature, hog_as_image"
   ]
  },
  {
   "cell_type": "markdown",
   "metadata": {},
   "source": [
    "## Example of visualising an image and its features. "
   ]
  },
  {
   "cell_type": "code",
   "execution_count": 4,
   "metadata": {},
   "outputs": [
    {
     "data": {
      "text/plain": [
       "<matplotlib.image.AxesImage at 0x1bd6fe0d860>"
      ]
     },
     "execution_count": 4,
     "metadata": {},
     "output_type": "execute_result"
    },
    {
     "data": {
      "image/png": "[encoded data removed]",
      "text/plain": [
       "<Figure size 432x288 with 1 Axes>"
      ]
     },
     "metadata": {
      "needs_background": "light"
     },
     "output_type": "display_data"
    }
   ],
   "source": [
    "trainIdx = 300\n",
    "plt.imshow(testImages[:,:,:,trainIdx])"
   ]
  },
  {
   "cell_type": "code",
   "execution_count": 5,
   "metadata": {},
   "outputs": [
    {
     "data": {
      "image/png": "[encoded data removed]",
      "text/plain": [
       "<Figure size 432x288 with 1 Axes>"
      ]
     },
     "metadata": {
      "needs_background": "light"
     },
     "output_type": "display_data"
    },
    {
     "name": "stdout",
     "output_type": "stream",
     "text": [
      "(324,)\n"
     ]
    }
   ],
   "source": [
    "# Extract the features from a single image\n",
    "features, hog_image = computeFeatures(trainImages[:,:,:,trainIdx])\n",
    "plt.imshow(hog_image)\n",
    "plt.show(block=False)\n",
    "print(features.shape)"
   ]
  },
  {
   "cell_type": "markdown",
   "metadata": {},
   "source": [
    "## Extracting the features from each image."
   ]
  },
  {
   "cell_type": "code",
   "execution_count": null,
   "metadata": {},
   "outputs": [],
   "source": [
    "trainFeatures = np.empty(shape = (trainImages.shape[3], features.shape[0]))\n",
    "for i in range(trainImages.shape[3]): \n",
    "    features, hog_image = computeFeatures(trainImages[:,:,:,i])\n",
    "    trainFeatures[i, :] = features\n",
    "    \n",
    "testFeatures = np.empty(shape = (testImages.shape[3], features.shape[0]))\n",
    "for i in range(testImages.shape[3]): \n",
    "    features, hog_image = computeFeatures(testImages[:,:,:,i])\n",
    "    testFeatures[i, :] = features\n",
    "\n",
    "print('Train Features Shape:', trainFeatures.shape)\n",
    "print('Test Features Shape:', testFeatures.shape)"
   ]
  },
  {
   "cell_type": "markdown",
   "metadata": {},
   "source": [
    "## Normalising the features. "
   ]
  },
  {
   "cell_type": "code",
   "execution_count": null,
   "metadata": {},
   "outputs": [],
   "source": [
    "#Normalise based on the training features.\n",
    "normaliser = StandardScaler().fit(trainFeatures) \n",
    "trainFeatures = normaliser.transform(trainFeatures)\n",
    "testFeatures = normaliser.transform(testFeatures)\n",
    "\n",
    "#Normalise features directly.\n",
    "#trainFeatures = StandardScaler().fit_transform(trainFeatures)\n",
    "#testFeatures = StandardScaler().fit_transform(testFeatures)"
   ]
  },
  {
   "cell_type": "markdown",
   "metadata": {},
   "source": [
    "## Training the SVM model and getting the predictions."
   ]
  },
  {
   "cell_type": "code",
   "execution_count": null,
   "metadata": {},
   "outputs": [],
   "source": [
    "C = 7\n",
    "model = SVC(kernel = 'rbf', C = C)\n",
    "model.fit(trainFeatures, trainLabels)\n",
    "\n",
    "testPred = model.predict(testFeatures)\n",
    "\n",
    "#Importing AutoEncoder from PyOD\n",
    "from pyod.models.auto_encoder import AutoEncoder\n",
    "#Train AutoEncoder, contamination = ( anomalies/total datapoints )\n",
    "#Cardio = 9.6%, Wine = 7.7%\n",
    "clf = AutoEncoder(hidden_neurons = [13, 7, 2, 7, 13], contamination = 0.1)\n",
    "clf.fit(x)\n",
    "\n",
    "#print(np.unique(testPred)) \n",
    "#print('Accuracy of Test Data: ' + str(accuracy_score(testLabels, testPred) * 100) + '%')   "
   ]
  },
  {
   "cell_type": "markdown",
   "metadata": {},
   "source": [
    "## View the accuracy of each category and the confusion matrix."
   ]
  },
  {
   "cell_type": "code",
   "execution_count": null,
   "metadata": {},
   "outputs": [],
   "source": [
    "#Calculates accuracy of each category and overall accuracy.\n",
    "airplaneCorrect = 0\n",
    "automobileCorrect = 0\n",
    "birdCorrect = 0\n",
    "catCorrect = 0\n",
    "deerCorrect = 0\n",
    "dogCorrect = 0\n",
    "frogCorrect = 0\n",
    "horseCorrect = 0\n",
    "shipCorrect = 0\n",
    "truckCorrect = 0\n",
    "incorrectPredictions = 0\n",
    "\n",
    "for i in range(len(testLabels)):\n",
    "    if (testPred[i] == testLabels[i]) and (testLabels[i] == 1):\n",
    "        airplaneCorrect = airplaneCorrect + 1\n",
    "    elif (testPred[i] == testLabels[i]) and (testLabels[i] == 2):\n",
    "        automobileCorrect = automobileCorrect + 1\n",
    "    elif (testPred[i] == testLabels[i]) and (testLabels[i] == 3):\n",
    "        birdCorrect = birdCorrect + 1\n",
    "    elif (testPred[i] == testLabels[i]) and (testLabels[i] == 4):\n",
    "        catCorrect = catCorrect + 1\n",
    "    elif (testPred[i] == testLabels[i]) and (testLabels[i] == 5):\n",
    "        deerCorrect = deerCorrect + 1\n",
    "    elif (testPred[i] == testLabels[i]) and (testLabels[i] == 6):\n",
    "        dogCorrect = dogCorrect + 1\n",
    "    elif (testPred[i] == testLabels[i]) and (testLabels[i] == 7):\n",
    "        frogCorrect = frogCorrect + 1\n",
    "    elif (testPred[i] == testLabels[i]) and (testLabels[i] == 8):\n",
    "        horseCorrect = horseCorrect + 1\n",
    "    elif (testPred[i] == testLabels[i]) and (testLabels[i] == 9):\n",
    "        shipCorrect = shipCorrect + 1\n",
    "    elif (testPred[i] == testLabels[i]) and (testLabels[i] == 10):\n",
    "        truckCorrect = truckCorrect + 1\n",
    "    else:\n",
    "        incorrectPredictions = incorrectPredictions + 1\n",
    "\n",
    "#1000 total images, 100 images per category (for test images)\n",
    "print('Airplane Accuracy: ' + str(airplaneCorrect) + '%')\n",
    "print('Automobile Accuracy: ' + str(automobileCorrect) + '%')\n",
    "print('Bird Accuracy: ' + str(birdCorrect) + '%')\n",
    "print('Cat Accuracy: ' + str(catCorrect) + '%')\n",
    "print('Deer Accuracy: ' + str(deerCorrect) + '%')\n",
    "print('Dog Accuracy: ' + str(dogCorrect) + '%')\n",
    "print('Frog Accuracy: ' + str(frogCorrect) + '%')\n",
    "print('Horse Accuracy: ' + str(horseCorrect) + '%')\n",
    "print('Ship Accuracy: ' + str(shipCorrect) + '%')\n",
    "print('Truck Accuracy: ' + str(truckCorrect) + '% \\n')\n",
    "print('Incorrect Predictions:', incorrectPredictions)\n",
    "print('Overall Accuracy: ' + str(((1000 - incorrectPredictions)/1000) * 100) + '%')\n",
    "\n",
    "#Confusion matrix\n",
    "print(confusion_matrix(testLabels, testPred))"
   ]
  },
  {
   "cell_type": "markdown",
   "metadata": {},
   "source": [
    "## Notes: "
   ]
  },
  {
   "cell_type": "code",
   "execution_count": null,
   "metadata": {},
   "outputs": [],
   "source": [
    "'''\n",
    "SOME RESULTS\n",
    "\n",
    "The C value was adjusted until the optimal accuracy was found.\n",
    "NOTE: High C = Lower bias, higher variance\n",
    "      Low C = Higher bias, lower variance\n",
    "\n",
    "Overall performance was better on standard-scalered data.\n",
    "Tested on different kernels (RBF and Poly. sigmoid and linear were \n",
    "significantly worse, even in specific categories) - it's multivariate data...\n",
    "\n",
    "RBF was generally better, while Poly was able to identify certain categories better (Deers and Frogs were\n",
    "significantly better).\n",
    "\n",
    "RBF made more correct predictions when the training and testing features were normalised directly, rather than\n",
    "normalised based on the training features. However, Poly made more correct predictions when the training and testing\n",
    "features were normalised based on the training features.\n",
    "\n",
    "RBF: (Standard scalered data based on trained features)\n",
    "C = 9\n",
    "Airplane Accuracy: 69%\n",
    "Automobile Accuracy: 65%\n",
    "Bird Accuracy: 50%\n",
    "Cat Accuracy: 42%\n",
    "Deer Accuracy: 63%\n",
    "Dog Accuracy: 60%\n",
    "Frog Accuracy: 64%\n",
    "Horse Accuracy: 59%\n",
    "Ship Accuracy: 65%\n",
    "Truck Accuracy: 69% \n",
    "\n",
    "Incorrect Predictions: 394\n",
    "Overall Accuracy: 60.6%\n",
    "\n",
    "[69,  1,  6,  3,  6,  2,  1,  4,  8,  0],\n",
    "[ 4, 65,  0,  1,  4,  1,  3,  2, 12,  8],\n",
    "[ 7,  1, 50,  8,  5, 13,  9,  3,  2,  2],\n",
    "[ 4,  3, 15, 42,  9, 12,  7,  5,  1,  2],\n",
    "[ 4,  2, 11, 11, 63,  4,  3,  0,  2,  0],\n",
    "[ 2,  0,  8,  6,  8, 60,  6,  7,  2,  1],\n",
    "[ 1,  5, 11,  7,  5,  4, 64,  1,  1,  1],\n",
    "[ 2,  1,  4, 11, 11,  8,  2, 59,  0,  2],\n",
    "[14, 10,  4,  0,  1,  0,  2,  0, 65,  4],\n",
    "[ 5,  7,  1,  2,  3,  2,  0,  4,  7, 69]\n",
    "\n",
    "---------------------------------------------------\n",
    "\n",
    "(Standard scalered, fit_transform directly on train and test data)\n",
    "Even though both made the same number of correct predictions, the accuracy of some categories were different.\n",
    "C = 7\n",
    "Airplane Accuracy: 70%\n",
    "Automobile Accuracy: 65%\n",
    "Bird Accuracy: 48%    <-\n",
    "Cat Accuracy: 41%\n",
    "Deer Accuracy: 64%\n",
    "Dog Accuracy: 61%    <-\n",
    "Frog Accuracy: 64%\n",
    "Horse Accuracy: 61%\n",
    "Ship Accuracy: 66%\n",
    "Truck Accuracy: 69% \n",
    "\n",
    "Incorrect Predictions: 391\n",
    "Overall Accuracy: 60.9%\n",
    "\n",
    "[70,  1,  6,  2,  5,  2,  1,  4,  8,  1],\n",
    "[ 3, 65,  0,  2,  4,  1,  3,  2, 12,  8],\n",
    "[ 7,  1, 48,  8,  5, 14,  9,  4,  2,  2],\n",
    "[ 5,  3, 15, 41,  9, 12,  7,  5,  1,  2],\n",
    "[ 4,  1, 10, 11, 64,  5,  3,  0,  2,  0],\n",
    "[ 2,  0,  6,  7,  8, 61,  6,  7,  2,  1],\n",
    "[ 1,  4, 10,  7,  7,  4, 64,  1,  1,  1],\n",
    "[ 2,  0,  4, 11,  9,  9,  2, 61,  0,  2],\n",
    "[13,  9,  4,  0,  1,  0,  2,  0, 66,  5],\n",
    "[ 6,  8,  1,  2,  1,  2,  0,  5,  6, 69]\n",
    "\n",
    "---------------------------------------------------\n",
    "\n",
    "C = 6\n",
    "Airplane Accuracy: 70%\n",
    "Automobile Accuracy: 65%\n",
    "Bird Accuracy: 49%    <-\n",
    "Cat Accuracy: 41%\n",
    "Deer Accuracy: 64%\n",
    "Dog Accuracy: 60%    <-\n",
    "Frog Accuracy: 64%\n",
    "Horse Accuracy: 61%\n",
    "Ship Accuracy: 66%\n",
    "Truck Accuracy: 69% \n",
    "\n",
    "Incorrect Predictions: 391\n",
    "Overall Accuracy: 60.9%\n",
    "\n",
    "[70,  1,  6,  2,  5,  2,  1,  4,  8,  1],\n",
    "[ 3, 65,  0,  2,  4,  1,  3,  2, 12,  8],\n",
    "[ 7,  1, 49,  8,  5, 14,  9,  3,  2,  2],\n",
    "[ 5,  3, 15, 41,  8, 13,  7,  5,  1,  2],\n",
    "[ 4,  1, 10, 11, 64,  5,  3,  0,  2,  0],\n",
    "[ 2,  0,  6,  8,  8, 60,  6,  7,  2,  1],\n",
    "[ 1,  4, 11,  7,  6,  4, 64,  1,  1,  1],\n",
    "[ 2,  0,  4, 11,  9,  9,  2, 61,  0,  2],\n",
    "[13,  9,  4,  0,  1,  0,  2,  0, 66,  5],\n",
    "[ 6,  8,  1,  2,  1,  2,  0,  5,  6, 69]\n",
    "\n",
    "#######################################################\n",
    "\n",
    "Poly: (Standard scalered data based on trained features)\n",
    "C = 9\n",
    "Poly was more accurate here (with Standard scalered data based on trained features).\n",
    "It was better than RBF in the following categories: (Automobile, Deer, Frog)\n",
    "\n",
    "Airplane Accuracy: 58%\n",
    "Automobile Accuracy: 69%\n",
    "Bird Accuracy: 42%\n",
    "Cat Accuracy: 34%\n",
    "Deer Accuracy: 73%\n",
    "Dog Accuracy: 53%\n",
    "Frog Accuracy: 74%\n",
    "Horse Accuracy: 59%\n",
    "Ship Accuracy: 66%\n",
    "Truck Accuracy: 67% \n",
    "\n",
    "Incorrect Predictions: 405\n",
    "Overall Accuracy: 59.5%\n",
    "\n",
    "[58,  1,  3,  2, 10,  2,  5,  2, 15,  2],\n",
    "[ 1, 69,  0,  0,  7,  1,  3,  1, 10,  8],\n",
    "[ 5,  1, 42,  5,  9, 15, 14,  5,  2,  2],\n",
    "[ 0,  2, 12, 34, 17, 16, 13,  4,  0,  2],\n",
    "[ 1,  1,  6,  7, 73,  1,  7,  1,  2,  1],\n",
    "[ 0,  1,  5,  8, 18, 53,  7,  7,  1,  0],\n",
    "[ 2,  2,  4,  3,  8,  4, 74,  1,  0,  2],\n",
    "[ 0,  1,  1,  5, 18,  7,  3, 59,  1,  5],\n",
    "[11,  7,  3,  1,  2,  1,  1,  0, 66,  8],\n",
    "[ 3,  9,  0,  0, 12,  2,  1,  2,  4, 67]\n",
    "\n",
    "---------------------------------------------------\n",
    "\n",
    "(Standard scalered, fit_transform directly on train and test data)\n",
    "C = 4\n",
    "Airplane Accuracy: 56%\n",
    "Automobile Accuracy: 70% <-\n",
    "Bird Accuracy: 40%\n",
    "Cat Accuracy: 34%\n",
    "Deer Accuracy: 74% <-\n",
    "Dog Accuracy: 53%\n",
    "Frog Accuracy: 71% <-\n",
    "Horse Accuracy: 60% <-\n",
    "Ship Accuracy: 65%\n",
    "Truck Accuracy: 69% <-\n",
    "\n",
    "Incorrect Predictions: 408\n",
    "Overall Accuracy: 59.199999999999996%\n",
    "\n",
    "[56  2  3  2  9  2  5  3 15  3]\n",
    "[ 1 70  0  0  6  1  3  1 10  8]\n",
    "[ 5  1 40  5 10 16 14  5  2  2]\n",
    "[ 0  2 12 34 17 16 13  4  0  2]\n",
    "[ 1  1  6  6 74  2  6  1  2  1] \n",
    "[ 0  1  4  9 18 53  7  7  1  0]\n",
    "[ 2  2  3  6  9  4 71  1  0  2]\n",
    "[ 0  1  0  5 19  8  2 60  1  4]\n",
    "[11  8  3  1  2  1  1  0 65  8]\n",
    "[ 3  8  0  0 11  2  1  2  4 69]\n",
    "\n",
    "---------------------------------------------------\n",
    "\n",
    "C = 8 or more!\n",
    "Airplane Accuracy: 56%\n",
    "Automobile Accuracy: 69% <-\n",
    "Bird Accuracy: 40%\n",
    "Cat Accuracy: 34%\n",
    "Deer Accuracy: 73% <-\n",
    "Dog Accuracy: 53%\n",
    "Frog Accuracy: 74% <-\n",
    "Horse Accuracy: 61%\n",
    "Ship Accuracy: 65%\n",
    "Truck Accuracy: 67% <-\n",
    "\n",
    "Incorrect Predictions: 408\n",
    "Overall Accuracy: 59.199999999999996%\n",
    "[[56  2  3  2  9  2  5  3 15  3]\n",
    " [ 1 69  0  0  6  1  3  1 11  8]\n",
    " [ 5  1 40  5  9 16 15  5  2  2]\n",
    " [ 0  2 12 34 17 16 13  4  0  2]\n",
    " [ 1  1  6  6 73  2  7  1  2  1]\n",
    " [ 0  1  4  9 18 53  7  7  1  0]\n",
    " [ 2  2  3  6  7  3 74  1  0  2]\n",
    " [ 0  1  0  5 17  8  3 61  1  4]\n",
    " [11  8  3  1  2  1  1  0 65  8]\n",
    " [ 3  9  0  0 11  2  1  2  5 67]]\n",
    "\n",
    "'''"
   ]
  },
  {
   "cell_type": "code",
   "execution_count": null,
   "metadata": {},
   "outputs": [],
   "source": []
  }
 ],
 "metadata": {
  "kernelspec": {
   "display_name": "Python 3",
   "language": "python",
   "name": "python3"
  },
  "language_info": {
   "codemirror_mode": {
    "name": "ipython",
    "version": 3
   },
   "file_extension": ".py",
   "mimetype": "text/x-python",
   "name": "python",
   "nbconvert_exporter": "python",
   "pygments_lexer": "ipython3",
   "version": "3.6.8"
  }
 },
 "nbformat": 4,
 "nbformat_minor": 2
}
