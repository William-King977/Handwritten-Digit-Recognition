{
 "cells": [
  {
   "cell_type": "markdown",
   "metadata": {},
   "source": [
    "# Handwritten Digit Recognition with Machine Learning\n",
    "\n",
    "Just attempting to try handwritten digit recognition with machine learning.\n",
    "\n",
    "Project inspired by scikit-learn's \"Recognizing hand-written digits\": https://scikit-learn.org/stable/auto_examples/classification/plot_digits_classification.html#sphx-glr-auto-examples-classification-plot-digits-classification-py"
   ]
  },
  {
   "cell_type": "markdown",
   "metadata": {},
   "source": [
    "## Import libraries"
   ]
  },
  {
   "cell_type": "code",
   "execution_count": null,
   "metadata": {},
   "outputs": [],
   "source": [
    "import numpy as np\n",
    "from numpy import asarray\n",
    "from tensorflow.keras.datasets import mnist\n",
    "\n",
    "from sklearn.model_selection import train_test_split\n",
    "from sklearn.cluster import KMeans\n",
    "from sklearn.ensemble import RandomForestClassifier\n",
    "from sklearn.neural_network import MLPClassifier\n",
    "from sklearn.metrics import accuracy_score\n",
    "from sklearn.metrics import precision_score\n",
    "from sklearn.metrics import recall_score\n",
    "from sklearn.metrics import f1_score\n",
    "from sklearn.metrics import confusion_matrix\n",
    "\n",
    "import tkinter as tk\n",
    "from PIL import Image\n",
    "from PIL import ImageGrab"
   ]
  },
  {
   "cell_type": "markdown",
   "metadata": {},
   "source": [
    "## Import the data sets and labels. "
   ]
  },
  {
   "cell_type": "code",
   "execution_count": null,
   "metadata": {},
   "outputs": [],
   "source": [
    "train_data, train_labels, test_data, test_labels = mnist.load_data()\n",
    "\n",
    "#print('Train Data: ', train_data.shape)\n",
    "#print('Train Labels: ', train_labels.shape)\n",
    "\n",
    "# To apply a classifier on this data, we need to flatten the image, to\n",
    "# turn the data in a (samples, feature) matrix:\n",
    "n_samples = train_data.shape[0]\n",
    "train_data = train_data.reshape((n_samples, -1))"
   ]
  },
  {
   "cell_type": "markdown",
   "metadata": {},
   "source": [
    "## Training the models (and getting the predictions)."
   ]
  },
  {
   "cell_type": "code",
   "execution_count": null,
   "metadata": {},
   "outputs": [],
   "source": [
    "#----------Random Forest----------\n",
    "rf_model = RandomForestClassifier(n_estimators = 100)\n",
    "rf_model.fit(train_data, train_labels)\n",
    "#rf_pred = rf_model.predict(test_data) "
   ]
  },
  {
   "cell_type": "code",
   "execution_count": null,
   "metadata": {},
   "outputs": [],
   "source": [
    "#----------Neural Network (MLP)----------\n",
    "nn_model = MLPClassifier(hidden_layer_sizes=(100, ), max_iter = 1000).fit(train_data, train_labels)\n",
    "#nn_pred= nn_model.predict(test_data)"
   ]
  },
  {
   "cell_type": "markdown",
   "metadata": {},
   "source": [
    "## View the performance"
   ]
  },
  {
   "cell_type": "code",
   "execution_count": null,
   "metadata": {},
   "outputs": [],
   "source": [
    "print(\"Random Forest Performance in %:\")\n",
    "print(\"Accuracy:\", accuracy_score(test_labels, rf_pred) * 100)\n",
    "print(\"Precision:\", precision_score(test_labels, rf_pred, average = \"weighted\") * 100)\n",
    "print(\"Recall:\", recall_score(test_labels, rf_pred, average = \"weighted\") * 100)\n",
    "print(\"F1 Score:\", f1_score(test_labels, rf_pred, average = \"weighted\") * 100)\n",
    "print()"
   ]
  },
  {
   "cell_type": "code",
   "execution_count": null,
   "metadata": {},
   "outputs": [],
   "source": [
    "print(\"Neural Network Performance in %:\")\n",
    "print(\"Accuracy:\", accuracy_score(test_labels, nn_pred) * 100)\n",
    "print(\"Precision:\", precision_score(test_labels, nn_pred, average = \"weighted\") * 100)\n",
    "print(\"Recall:\", recall_score(test_labels, nn_pred, average = \"weighted\") * 100)\n",
    "print(\"F1 Score:\", f1_score(test_labels, nn_pred, average = \"weighted\") * 100)"
   ]
  },
  {
   "cell_type": "markdown",
   "metadata": {},
   "source": [
    "## Testing image imports "
   ]
  },
  {
   "cell_type": "code",
   "execution_count": null,
   "metadata": {},
   "outputs": [],
   "source": [
    "# Converts it to a single colour depth.\n",
    "img = Image.open('two.png').convert('P', palette = Image.ADAPTIVE, colors = 50)\n",
    "img.thumbnail((28, 28), Image.ANTIALIAS)\n",
    "img.show()\n",
    "npImg = asarray(img).reshape(1, -1)\n",
    "\n",
    "pred = rf_model.predict(npImg)\n",
    "print(pred)"
   ]
  },
  {
   "cell_type": "code",
   "execution_count": null,
   "metadata": {},
   "outputs": [],
   "source": [
    "print(npImg.shape)\n",
    "plt.imshow(img)\n",
    "plt.show()"
   ]
  },
  {
   "cell_type": "markdown",
   "metadata": {},
   "source": [
    "## GUI For Canvas \n",
    "\n",
    "<b>NOTE:</b> BEFORE RUNNING THE CODE, go on Display Settings -> Scale and layout -> then \"Change the size of text, apps and other items\" to 100%. Otherwise, fetching the co-ordinates of the canvas will be inaccurate."
   ]
  },
  {
   "cell_type": "code",
   "execution_count": null,
   "metadata": {},
   "outputs": [],
   "source": [
    "canvasWidth = 280\n",
    "canvasHeight = 280\n",
    "mousePos = { \"x\":0, \"y\":0 }\n",
    "lineWidth = 15\n",
    "\n",
    "# Sets the current position of the mouse.\n",
    "def setPosition(event):\n",
    "    mousePos[\"x\"] = event.x \n",
    "    mousePos[\"y\"] = event.y\n",
    "\n",
    "# Draw on the canvas based on the current position of the mouse.\n",
    "def draw(event):\n",
    "    currX = mousePos[\"x\"]\n",
    "    currY = mousePos[\"y\"]\n",
    "    canvas.create_oval(currX, currY, currX, currY, width = lineWidth)\n",
    "    setPosition(event)\n",
    "\n",
    "# Removes the canvas content.\n",
    "def clearCanvas():\n",
    "    canvas.delete(\"all\")\n",
    "\n",
    "# Takes a screenshot of the canvas and stores it as an image.\n",
    "def saveImage():\n",
    "    canvas.update()\n",
    "    \n",
    "    # Added (+2) to prevent the border from being screenshotted.\n",
    "    x0 = canvas.winfo_rootx() + 2\n",
    "    y0 = canvas.winfo_rooty() + 2\n",
    "    x1 = x0 + canvasWidth\n",
    "    y1 = y0 + canvasHeight\n",
    "    \n",
    "    screenShot = ImageGrab.grab((x0, y0, x1, y1))\n",
    "    \n",
    "    # Converts it to a single colour depth.\n",
    "    canvasImg = screenShot.convert('P', palette = Image.ADAPTIVE, colors = 10)\n",
    "    canvasImg.thumbnail((28, 28), Image.ANTIALIAS) # (28,28) is the size of the train/test images.\n",
    "    predictImg(canvasImg)\n",
    "    \n",
    "# Makes the predictions on the image.\n",
    "def predictImage(img):\n",
    "    npImg = asarray(img).reshape(1, -1)\n",
    "    rf_pred = rf_model.predict(npImg)\n",
    "    #nn_pred = nn_model.predict(npImg)\n",
    "    \n",
    "    # Display them on the GUI.\n",
    "    lblRandForest.config(text = \"Random Forest: \" + str(rf_pred))\n",
    "    #lblNeuralNet.config(text = \"Neural Network: \" + str(nn_pred))\n",
    "\n",
    "# Create the window and add its elements.\n",
    "root = tk.Tk()\n",
    "root.geometry(\"500x500\")\n",
    "root.resizable(0, 0)\n",
    "\n",
    "canvas = tk.Canvas(root, bg = \"white\", width = canvasWidth, height = canvasHeight, \n",
    "                   highlightthickness = 2, highlightbackground = \"black\")\n",
    "canvas.bind(\"<Button-1>\", setPosition)\n",
    "canvas.bind(\"<B1-Motion>\", draw)\n",
    "canvas.pack()\n",
    "\n",
    "btnClear = tk.Button(root, text = \"Clear\", command = clearCanvas)\n",
    "btnClear.pack()\n",
    "\n",
    "btnPredict= tk.Button(root, text = \"Predict\", command = saveImage)\n",
    "btnPredict.pack()\n",
    "\n",
    "lblRandForest = tk.Label(root)\n",
    "lblRandForest.pack()\n",
    "\n",
    "lblNeuralNet = tk.Label(root)\n",
    "lblNeuralNet.pack()\n",
    "\n",
    "root.mainloop() # Run it."
   ]
  },
  {
   "cell_type": "code",
   "execution_count": null,
   "metadata": {},
   "outputs": [],
   "source": []
  }
 ],
 "metadata": {
  "kernelspec": {
   "display_name": "Python 3",
   "language": "python",
   "name": "python3"
  },
  "language_info": {
   "codemirror_mode": {
    "name": "ipython",
    "version": 3
   },
   "file_extension": ".py",
   "mimetype": "text/x-python",
   "name": "python",
   "nbconvert_exporter": "python",
   "pygments_lexer": "ipython3",
   "version": "3.6.8"
  }
 },
 "nbformat": 4,
 "nbformat_minor": 2
}
