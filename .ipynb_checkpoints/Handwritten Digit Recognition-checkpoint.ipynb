{
 "cells": [
  {
   "cell_type": "markdown",
   "metadata": {},
   "source": [
    "# Handwritten Digit Recognition with Machine Learning\n",
    "\n",
    "Just attempting to try handwritten digit recognition with machine learning.\n",
    "\n",
    "Project inspired by scikit-learn's \"Recognizing hand-written digits\": https://scikit-learn.org/stable/auto_examples/classification/plot_digits_classification.html#sphx-glr-auto-examples-classification-plot-digits-classification-py"
   ]
  },
  {
   "cell_type": "markdown",
   "metadata": {},
   "source": [
    "## Import libraries"
   ]
  },
  {
   "cell_type": "code",
   "execution_count": 2,
   "metadata": {},
   "outputs": [],
   "source": [
    "import numpy as np\n",
    "from numpy import asarray\n",
    "import glob\n",
    "import cv2\n",
    "\n",
    "from sklearn.cluster import KMeans\n",
    "from sklearn.ensemble import RandomForestClassifier\n",
    "from sklearn.neighbors import KNeighborsClassifier\n",
    "\n",
    "from sklearn.metrics import accuracy_score\n",
    "from sklearn.metrics import precision_score\n",
    "from sklearn.metrics import recall_score\n",
    "from sklearn.metrics import f1_score\n",
    "from sklearn.metrics import confusion_matrix\n",
    "\n",
    "import tkinter as tk\n",
    "from PIL import Image\n",
    "from PIL import ImageGrab"
   ]
  },
  {
   "cell_type": "markdown",
   "metadata": {},
   "source": [
    "## Import the images and labels. "
   ]
  },
  {
   "cell_type": "code",
   "execution_count": 7,
   "metadata": {},
   "outputs": [],
   "source": [
    "train_images = np.load('trainImages.npy')\n",
    "train_labels = np.load('trainLabels.npy')"
   ]
  },
  {
   "cell_type": "markdown",
   "metadata": {},
   "source": [
    "## Training the models."
   ]
  },
  {
   "cell_type": "code",
   "execution_count": 8,
   "metadata": {},
   "outputs": [
    {
     "data": {
      "text/plain": [
       "RandomForestClassifier(bootstrap=True, ccp_alpha=0.0, class_weight=None,\n",
       "                       criterion='gini', max_depth=None, max_features='auto',\n",
       "                       max_leaf_nodes=None, max_samples=None,\n",
       "                       min_impurity_decrease=0.0, min_impurity_split=None,\n",
       "                       min_samples_leaf=1, min_samples_split=2,\n",
       "                       min_weight_fraction_leaf=0.0, n_estimators=200,\n",
       "                       n_jobs=None, oob_score=False, random_state=20, verbose=0,\n",
       "                       warm_start=False)"
      ]
     },
     "execution_count": 8,
     "metadata": {},
     "output_type": "execute_result"
    }
   ],
   "source": [
    "#----------Random Forest----------\n",
    "rf_model = RandomForestClassifier(n_estimators = 200, random_state = 20)\n",
    "rf_model.fit(train_images, train_labels)\n",
    "#rf_pred = rf_model.predict(test_data) "
   ]
  },
  {
   "cell_type": "code",
   "execution_count": 9,
   "metadata": {},
   "outputs": [
    {
     "data": {
      "text/plain": [
       "KNeighborsClassifier(algorithm='auto', leaf_size=30, metric='minkowski',\n",
       "                     metric_params=None, n_jobs=None, n_neighbors=10, p=2,\n",
       "                     weights='uniform')"
      ]
     },
     "execution_count": 9,
     "metadata": {},
     "output_type": "execute_result"
    }
   ],
   "source": [
    "#----------K-Nearest Neighbours----------\n",
    "knn_model = KNeighborsClassifier(n_neighbors = 10)\n",
    "knn_model.fit(train_images, train_labels)\n",
    "#nn_pred= nn_model.predict(test_data)"
   ]
  },
  {
   "cell_type": "markdown",
   "metadata": {},
   "source": [
    "## GUI For Canvas \n",
    "\n",
    "<b>NOTE:</b> BEFORE RUNNING THE CODE, go on Display Settings -> Scale and layout -> then \"Change the size of text, apps and other items\" to 100%. Otherwise, fetching the co-ordinates of the canvas will be inaccurate."
   ]
  },
  {
   "cell_type": "code",
   "execution_count": 17,
   "metadata": {},
   "outputs": [],
   "source": [
    "canvasWidth = 280\n",
    "canvasHeight = 280\n",
    "mousePos = { \"x\":0, \"y\":0 }\n",
    "lineWidth = 15\n",
    "\n",
    "# Sets the current position of the mouse.\n",
    "def setPosition(event):\n",
    "    mousePos[\"x\"] = event.x \n",
    "    mousePos[\"y\"] = event.y\n",
    "\n",
    "# Draw on the canvas based on the current position of the mouse.\n",
    "def draw(event):\n",
    "    currX = mousePos[\"x\"]\n",
    "    currY = mousePos[\"y\"]\n",
    "    canvas.create_oval(currX, currY, currX, currY, width = lineWidth)\n",
    "    setPosition(event)\n",
    "\n",
    "# Removes the canvas content.\n",
    "def clearCanvas():\n",
    "    canvas.delete(\"all\")\n",
    "\n",
    "# Takes a screenshot of the canvas and stores it as an image.\n",
    "def saveImage():\n",
    "    canvas.update()\n",
    "    \n",
    "    # Added (+2) to prevent the border from being screenshotted.\n",
    "    x0 = canvas.winfo_rootx() + 2\n",
    "    y0 = canvas.winfo_rooty() + 2\n",
    "    x1 = x0 + canvasWidth\n",
    "    y1 = y0 + canvasHeight\n",
    "    \n",
    "    screenShot = ImageGrab.grab((x0, y0, x1, y1))\n",
    "    screenShot = screenShot.convert('P', palette = Image.ADAPTIVE, colors = 2)\n",
    "    predictImage(screenShot)\n",
    "    \n",
    "# Makes the predictions on the image.\n",
    "def predictImage(img):\n",
    "    # Convert the image into a numpy array.\n",
    "    npImg = asarray(img, dtype = \"int\").reshape(1, -1)\n",
    "    \n",
    "    rf_pred = rf_model.predict(npImg)\n",
    "    knn_pred = knn_model.predict(npImg)\n",
    "    \n",
    "    # Display the predictions on the GUI.\n",
    "    lblRandForest.config(text = \"Random Forest: \" + str(rf_pred))\n",
    "    lblNeuralNet.config(text = \"K-Nearest Neighbours: \" + str(knn_pred))\n",
    "\n",
    "# Create the window and add its elements.\n",
    "root = tk.Tk()\n",
    "root.geometry(\"500x500\")\n",
    "root.resizable(0, 0)\n",
    "\n",
    "canvas = tk.Canvas(root, bg = \"white\", width = canvasWidth, height = canvasHeight, \n",
    "                   highlightthickness = 2, highlightbackground = \"black\")\n",
    "canvas.bind(\"<Button-1>\", setPosition)\n",
    "canvas.bind(\"<B1-Motion>\", draw)\n",
    "canvas.pack()\n",
    "\n",
    "btnClear = tk.Button(root, text = \"Clear\", command = clearCanvas)\n",
    "btnClear.pack()\n",
    "\n",
    "btnPredict= tk.Button(root, text = \"Predict\", command = saveImage)\n",
    "btnPredict.pack()\n",
    "\n",
    "lblRandForest = tk.Label(root)\n",
    "lblRandForest.pack()\n",
    "\n",
    "lblNeuralNet = tk.Label(root)\n",
    "lblNeuralNet.pack()\n",
    "\n",
    "root.mainloop() # Run it."
   ]
  },
  {
   "cell_type": "markdown",
   "metadata": {},
   "source": [
    "## NOTE: The following code beyond this point is the pre-processing of the training data and labels.\n",
    "\n",
    "## Creating own training images \n",
    "Same as \"GUI For Canvas\", but it saves the drawn image as a .png file."
   ]
  },
  {
   "cell_type": "code",
   "execution_count": 20,
   "metadata": {},
   "outputs": [],
   "source": [
    "canvasWidth = 280\n",
    "canvasHeight = 280\n",
    "mousePos = { \"x\":0, \"y\":0 }\n",
    "lineWidth = 15\n",
    "save_directory = \"Data/9/Test.png\"\n",
    "\n",
    "# Sets the current position of the mouse.\n",
    "def setPosition(event):\n",
    "    mousePos[\"x\"] = event.x \n",
    "    mousePos[\"y\"] = event.y\n",
    "\n",
    "# Draw on the canvas based on the current position of the mouse.\n",
    "def draw(event):\n",
    "    currX = mousePos[\"x\"]\n",
    "    currY = mousePos[\"y\"]\n",
    "    canvas.create_oval(currX, currY, currX, currY, width = lineWidth)\n",
    "    setPosition(event)\n",
    "\n",
    "# Removes the canvas content.\n",
    "def clearCanvas():\n",
    "    canvas.delete(\"all\")\n",
    "\n",
    "# Takes a screenshot of the canvas and stores it as an image.\n",
    "def saveImage():\n",
    "    canvas.update()\n",
    "    \n",
    "    # Added (+2) to prevent the border from being screenshotted.\n",
    "    x0 = canvas.winfo_rootx() + 2\n",
    "    y0 = canvas.winfo_rooty() + 2\n",
    "    x1 = x0 + canvasWidth\n",
    "    y1 = y0 + canvasHeight\n",
    "    \n",
    "    screenShot = ImageGrab.grab((x0, y0, x1, y1))\n",
    "    screenShot.save(save_directory)\n",
    "\n",
    "# Create the window and add its elements.\n",
    "root = tk.Tk()\n",
    "root.geometry(\"500x500\")\n",
    "root.resizable(0, 0)\n",
    "\n",
    "canvas = tk.Canvas(root, bg = \"white\", width = canvasWidth, height = canvasHeight, \n",
    "                   highlightthickness = 2, highlightbackground = \"black\")\n",
    "canvas.bind(\"<Button-1>\", setPosition)\n",
    "canvas.bind(\"<B1-Motion>\", draw)\n",
    "canvas.pack()\n",
    "\n",
    "btnClear = tk.Button(root, text = \"Clear\", command = clearCanvas)\n",
    "btnClear.pack()\n",
    "\n",
    "btnPredict= tk.Button(root, text = \"Save\", command = saveImage)\n",
    "btnPredict.pack()\n",
    "\n",
    "root.mainloop() # Run it."
   ]
  },
  {
   "cell_type": "markdown",
   "metadata": {},
   "source": [
    "## Convert images into a numpy array\n",
    "Folders are ordered from 0 to 9 by default, so the labels can be determined based on that."
   ]
  },
  {
   "cell_type": "code",
   "execution_count": 6,
   "metadata": {},
   "outputs": [],
   "source": [
    "imgList = []\n",
    "labels = []\n",
    "i = 0\n",
    "\n",
    "imgFolders = glob.glob(\"C:/Users/willi/Documents/Handwritten Digit Recognition/Data/*\")\n",
    "\n",
    "# Search through each image folder.\n",
    "for folder in imgFolders:\n",
    "    # Go through each image and add them to the list.\n",
    "    for imgFile in glob.glob(folder + \"/*.png\"):\n",
    "        # Reduce to a single colour depth as well (it's black and white).\n",
    "        img = Image.open(imgFile).convert('P', palette = Image.ADAPTIVE, colors = 2)\n",
    "        img = asarray(img).reshape(-1, 1)\n",
    "        imgList.append(img)\n",
    "        labels.append(i)\n",
    "    i = i + 1\n",
    "\n",
    "# Convert images.\n",
    "n_samples = len(imgList)\n",
    "npImages = asarray(imgList, dtype = \"int\").reshape((n_samples, -1))\n",
    "np.save(\"trainImages\", npImages)\n",
    "\n",
    "# Convert labels.\n",
    "npLabels = asarray(labels, dtype = \"int\")\n",
    "np.save(\"trainLabels\", npLabels)   \n",
    "#print(npImages.shape)"
   ]
  },
  {
   "cell_type": "markdown",
   "metadata": {},
   "source": [
    "## Testing image imports "
   ]
  },
  {
   "cell_type": "code",
   "execution_count": null,
   "metadata": {},
   "outputs": [],
   "source": [
    "# Converts it to a single colour depth.\n",
    "img = Image.open('two.png').convert('P', palette = Image.ADAPTIVE, colors = 50)\n",
    "img.thumbnail((28, 28), Image.ANTIALIAS)\n",
    "img.show()\n",
    "npImg = asarray(img).reshape(1, -1)\n",
    "\n",
    "pred = rf_model.predict(npImg)\n",
    "print(pred)"
   ]
  },
  {
   "cell_type": "code",
   "execution_count": null,
   "metadata": {},
   "outputs": [],
   "source": [
    "print(npImg.shape)\n",
    "plt.imshow(img)\n",
    "plt.show()"
   ]
  }
 ],
 "metadata": {
  "kernelspec": {
   "display_name": "Python 3",
   "language": "python",
   "name": "python3"
  },
  "language_info": {
   "codemirror_mode": {
    "name": "ipython",
    "version": 3
   },
   "file_extension": ".py",
   "mimetype": "text/x-python",
   "name": "python",
   "nbconvert_exporter": "python",
   "pygments_lexer": "ipython3",
   "version": "3.6.8"
  }
 },
 "nbformat": 4,
 "nbformat_minor": 2
}
