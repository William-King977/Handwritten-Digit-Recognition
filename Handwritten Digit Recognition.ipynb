{
 "cells": [
  {
   "cell_type": "markdown",
   "metadata": {},
   "source": [
    "# Handwritten Digit Recognition with Machine Learning\n",
    "\n",
    "Just attempting to try handwritten digit recognition with machine learning.\n",
    "\n",
    "Project inspired by scikit-learn's \"Recognizing hand-written digits\": https://scikit-learn.org/stable/auto_examples/classification/plot_digits_classification.html#sphx-glr-auto-examples-classification-plot-digits-classification-py"
   ]
  },
  {
   "cell_type": "markdown",
   "metadata": {},
   "source": [
    "## Import libraries"
   ]
  },
  {
   "cell_type": "code",
   "execution_count": null,
   "metadata": {},
   "outputs": [],
   "source": [
    "import numpy as np\n",
    "from numpy import asarray\n",
    "import glob\n",
    "import os\n",
    "import time\n",
    "import cv2\n",
    "\n",
    "from sklearn.cluster import KMeans\n",
    "from sklearn.ensemble import RandomForestClassifier\n",
    "from sklearn.neighbors import KNeighborsClassifier\n",
    "from sklearn.svm import SVC\n",
    "\n",
    "from sklearn.metrics import accuracy_score\n",
    "from sklearn.metrics import precision_score\n",
    "from sklearn.metrics import recall_score\n",
    "from sklearn.metrics import f1_score\n",
    "from sklearn.metrics import confusion_matrix\n",
    "\n",
    "import tkinter as tk\n",
    "from PIL import Image\n",
    "from PIL import ImageGrab"
   ]
  },
  {
   "cell_type": "markdown",
   "metadata": {},
   "source": [
    "## Import the images and labels. "
   ]
  },
  {
   "cell_type": "code",
   "execution_count": null,
   "metadata": {},
   "outputs": [],
   "source": [
    "train_images = np.load('trainImages.npy')\n",
    "train_labels = np.load('trainLabels.npy')"
   ]
  },
  {
   "cell_type": "markdown",
   "metadata": {},
   "source": [
    "## Training the models."
   ]
  },
  {
   "cell_type": "code",
   "execution_count": null,
   "metadata": {},
   "outputs": [],
   "source": [
    "#----------Random Forest----------\n",
    "rf_model = RandomForestClassifier(n_estimators = 100, random_state = 1)\n",
    "rf_model.fit(train_images, train_labels)"
   ]
  },
  {
   "cell_type": "code",
   "execution_count": null,
   "metadata": {},
   "outputs": [],
   "source": [
    "#----------K-Nearest Neighbours----------\n",
    "knn_model = KNeighborsClassifier(n_neighbors = 20, weights = \"distance\")\n",
    "knn_model.fit(train_images, train_labels)"
   ]
  },
  {
   "cell_type": "code",
   "execution_count": null,
   "metadata": {},
   "outputs": [],
   "source": [
    "#----------Support Vector Machine (SVM)----------\n",
    "svm_model = SVC(kernel = \"rbf\", C = 5, random_state = 1)\n",
    "svm_model.fit(train_images, train_labels)"
   ]
  },
  {
   "cell_type": "markdown",
   "metadata": {},
   "source": [
    "## GUI For Canvas \n",
    "\n",
    "<b>NOTE:</b> BEFORE RUNNING THE CODE, go on Display Settings -> Scale and layout -> then \"Change the size of text, apps and other items\" to 100%. Otherwise, fetching the co-ordinates of the canvas will be inaccurate."
   ]
  },
  {
   "cell_type": "code",
   "execution_count": null,
   "metadata": {},
   "outputs": [],
   "source": [
    "canvasWidth = 280\n",
    "canvasHeight = 280\n",
    "mousePos = { \"x\":0, \"y\":0 }\n",
    "lineWidth = 15\n",
    "save_directory = \"Data/\"\n",
    "\n",
    "# Sets the current position of the mouse.\n",
    "def setPosition(event):\n",
    "    mousePos[\"x\"] = event.x \n",
    "    mousePos[\"y\"] = event.y\n",
    "\n",
    "# Draw on the canvas based on the current position of the mouse.\n",
    "def draw(event):\n",
    "    currX = mousePos[\"x\"]\n",
    "    currY = mousePos[\"y\"]\n",
    "    canvas.create_oval(currX, currY, currX, currY, width = lineWidth)\n",
    "    setPosition(event)\n",
    "\n",
    "# Removes the canvas content.\n",
    "def clearCanvas():\n",
    "    canvas.delete(\"all\")\n",
    "\n",
    "# Takes a screenshot of the canvas and returns it.\n",
    "def getCanvasScreenshot():\n",
    "    canvas.update()\n",
    "    \n",
    "    # Added (+2) to prevent the border from being part of the screenshot.\n",
    "    x0 = canvas.winfo_rootx() + 2\n",
    "    y0 = canvas.winfo_rooty() + 2\n",
    "    x1 = x0 + canvasWidth\n",
    "    y1 = y0 + canvasHeight\n",
    "    \n",
    "    screenShot = ImageGrab.grab((x0, y0, x1, y1))\n",
    "    return screenShot\n",
    "    \n",
    "# Makes the predictions on the image.\n",
    "def predictImage():\n",
    "    # Get screenshot and adjust the image.\n",
    "    screenShot = getCanvasScreenshot()\n",
    "    screenShot = screenShot.convert('P', palette = Image.ADAPTIVE, colors = 2)\n",
    "    \n",
    "    # Convert the image into a numpy array.\n",
    "    npImg = asarray(screenShot, dtype = \"int\").reshape(1, -1)\n",
    "    \n",
    "    rf_pred = rf_model.predict(npImg)\n",
    "    knn_pred = knn_model.predict(npImg)\n",
    "    svm_pred = svm_model.predict(npImg)\n",
    "    \n",
    "    # Display the predictions on the GUI.\n",
    "    lblRandForest.config(text = \"Random Forest: \" + str(rf_pred))\n",
    "    lblKNN.config(text = \"K-Nearest Neighbours: \" + str(knn_pred))\n",
    "    lblSVM.config(text = \"SVM: \" + str(svm_pred))\n",
    "    btnWrongPred.pack() # Show the button.\n",
    "\n",
    "# Displays a seperate window that allows the user to submit what was drawn\n",
    "# if the prediction(s) was wrong.\n",
    "def openPredictWindow():\n",
    "    predictWindow = tk.Toplevel(root)\n",
    "    predictWindow.geometry(\"200x100\")\n",
    "    predictWindow.grab_set() # Prevent interaction of the main window.\n",
    "    \n",
    "    lblPredictPrompt = tk.Label(predictWindow, text = \"Enter the number you drew:\").pack()\n",
    "    \n",
    "    txtPredict = tk.Entry(predictWindow)\n",
    "    txtPredict.pack()\n",
    "    \n",
    "    # Lambda prevents the function from running (when opening the window).\n",
    "    btnSubmit = tk.Button(predictWindow, text = \"Submit\", \n",
    "                          command = lambda : saveImage(txtPredict.get(), predictWindow))\n",
    "    btnSubmit.pack()\n",
    "\n",
    "# Saves the canvas contents as a new training image, then closes the sub-window.\n",
    "def saveImage(userPred, predictWindow):\n",
    "    imgFolders = glob.glob(\"Data/*\")\n",
    "    \n",
    "    # Remove whitespace (it's a single digit input)\n",
    "    userPred = userPred.replace(\" \", \"\") \n",
    "    \n",
    "    # The input must be a single digit.\n",
    "    if (not userPred.isnumeric()) or (len(userPred) > 1):\n",
    "        # The input is invalid.\n",
    "        return\n",
    "    else:\n",
    "        # Close the window and wait (for it to close).\n",
    "        # This avoids the window from being in the screenshot (if it is).\n",
    "        predictWindow.destroy()\n",
    "        time.sleep(1)\n",
    "        \n",
    "        # Save the image (name is based on number of files in the respective directory).\n",
    "        path, dirs, files = next(os.walk(save_directory + userPred))\n",
    "        file_count = len(files)\n",
    "        screenShot = getCanvasScreenshot()\n",
    "        screenShot.save(save_directory + userPred + \"/\" + str(file_count + 1) + \").png\")\n",
    "    \n",
    "# Create the window and add its elements.\n",
    "root = tk.Tk()\n",
    "root.geometry(\"500x500\")\n",
    "root.resizable(0, 0)\n",
    "\n",
    "canvas = tk.Canvas(root, bg = \"white\", width = canvasWidth, height = canvasHeight, \n",
    "                   highlightthickness = 2, highlightbackground = \"black\")\n",
    "canvas.bind(\"<Button-1>\", setPosition)\n",
    "canvas.bind(\"<B1-Motion>\", draw)\n",
    "canvas.pack()\n",
    "\n",
    "# Create and display each button (apart from \"btnWrongPred\").\n",
    "btnClear = tk.Button(root, text = \"Clear\", command = clearCanvas).pack()\n",
    "btnPredict= tk.Button(root, text = \"Predict\", command = predictImage).pack()\n",
    "btnWrongPred = tk.Button(root, text = \"Wrong Prediction?\", command = openPredictWindow)\n",
    "\n",
    "# Create and display the labels (with no content).\n",
    "lblRandForest = tk.Label(root)\n",
    "lblKNN = tk.Label(root)\n",
    "lblSVM = tk.Label(root)\n",
    "lblRandForest.pack()\n",
    "lblKNN.pack()\n",
    "lblSVM.pack()\n",
    "\n",
    "root.mainloop() # Run it."
   ]
  },
  {
   "cell_type": "markdown",
   "metadata": {},
   "source": [
    "## NOTE: The following code beyond this point is the pre-processing of the training data and labels.\n",
    "\n",
    "## Convert images into a numpy array\n",
    "Folders are ordered from 0 to 9 by default, so the labels can be determined based on that. <b> RUN THIS EVERYTIME NEW TRAINING IMAGES ARE ADDED. </b>"
   ]
  },
  {
   "cell_type": "code",
   "execution_count": null,
   "metadata": {},
   "outputs": [],
   "source": [
    "imgList = []\n",
    "labels = []\n",
    "i = 0\n",
    "\n",
    "# Full directory isn't needed.\n",
    "imgFolders = glob.glob(\"Data/*\")\n",
    "\n",
    "# Search through each image folder.\n",
    "for folder in imgFolders:\n",
    "    # Go through each image and add them to the list.\n",
    "    for imgFile in glob.glob(folder + \"/*.png\"):\n",
    "        # Reduce to a single colour depth as well (it's black and white).\n",
    "        img = Image.open(imgFile).convert('P', palette = Image.ADAPTIVE, colors = 2)\n",
    "        img = asarray(img).reshape(-1, 1)\n",
    "        imgList.append(img)\n",
    "        labels.append(i)\n",
    "    i = i + 1\n",
    "\n",
    "# Convert images.\n",
    "n_samples = len(imgList)\n",
    "npImages = asarray(imgList, dtype = \"int\").reshape((n_samples, -1))\n",
    "np.save(\"trainImages\", npImages)\n",
    "\n",
    "# Convert labels.\n",
    "npLabels = asarray(labels, dtype = \"int\")\n",
    "np.save(\"trainLabels\", npLabels)   \n",
    "#print(npImages.shape)"
   ]
  },
  {
   "cell_type": "markdown",
   "metadata": {},
   "source": [
    "## Testing image imports "
   ]
  },
  {
   "cell_type": "code",
   "execution_count": null,
   "metadata": {},
   "outputs": [],
   "source": [
    "# Converts it to a single colour depth.\n",
    "img = Image.open('two.png').convert('P', palette = Image.ADAPTIVE, colors = 50)\n",
    "img.thumbnail((28, 28), Image.ANTIALIAS)\n",
    "img.show()\n",
    "npImg = asarray(img).reshape(1, -1)\n",
    "\n",
    "pred = rf_model.predict(npImg)\n",
    "print(pred)"
   ]
  },
  {
   "cell_type": "code",
   "execution_count": null,
   "metadata": {},
   "outputs": [],
   "source": [
    "print(npImg.shape)\n",
    "plt.imshow(img)\n",
    "plt.show()"
   ]
  }
 ],
 "metadata": {
  "kernelspec": {
   "display_name": "Python 3",
   "language": "python",
   "name": "python3"
  },
  "language_info": {
   "codemirror_mode": {
    "name": "ipython",
    "version": 3
   },
   "file_extension": ".py",
   "mimetype": "text/x-python",
   "name": "python",
   "nbconvert_exporter": "python",
   "pygments_lexer": "ipython3",
   "version": "3.6.8"
  }
 },
 "nbformat": 4,
 "nbformat_minor": 2
}
